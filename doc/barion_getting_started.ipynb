{
 "cells": [
  {
   "cell_type": "markdown",
   "metadata": {},
   "source": [
    "# Example usage of Barion in jupyter notebook"
   ]
  },
  {
   "cell_type": "code",
   "execution_count": 1,
   "metadata": {
    "collapsed": false
   },
   "outputs": [],
   "source": [
    "from particle import *\n",
    "from ui_interface import *\n",
    "from amedata import *\n",
    "from ring import Ring\n",
    "import os\n",
    "import matplotlib.pyplot as plt\n",
    "import numpy as np\n",
    "%matplotlib inline\n",
    "#%matplotlib osx"
   ]
  },
  {
   "cell_type": "code",
   "execution_count": 2,
   "metadata": {
    "collapsed": false
   },
   "outputs": [
    {
     "name": "stdout",
     "output_type": "stream",
     "text": [
      "AME Database files are available.\n"
     ]
    }
   ],
   "source": [
    "ame_data = AMEData(DummyIFace())"
   ]
  },
  {
   "cell_type": "code",
   "execution_count": 3,
   "metadata": {
    "collapsed": false
   },
   "outputs": [],
   "source": [
    "p = Particle(6, 6, ame_data, Ring('ESR', 108.5))\n",
    "p.qq = 3\n",
    "p.ke_u = 422\n",
    "p.path_length_m = 108.5\n",
    "p.f_analysis_mhz = 245\n",
    "p.i_beam_uA = 1.2"
   ]
  },
  {
   "cell_type": "code",
   "execution_count": 4,
   "metadata": {
    "collapsed": false
   },
   "outputs": [],
   "source": [
    "s = p.calculate_from_energy_list()"
   ]
  },
  {
   "cell_type": "code",
   "execution_count": 5,
   "metadata": {
    "collapsed": false
   },
   "outputs": [
    {
     "name": "stdout",
     "output_type": "stream",
     "text": [
      "12-Li 3+, Z: 3, N: 9\n",
      "12-Be 4+, Z: 4, N: 8\n",
      "12-B 5+, Z: 5, N: 7\n",
      "12-C 6+, Z: 6, N: 6\n",
      "12-N 7+, Z: 7, N: 5\n",
      "12-O 8+, Z: 8, N: 4\n"
     ]
    }
   ],
   "source": [
    "for pp in p.get_isobars():\n",
    "    print(pp)"
   ]
  },
  {
   "cell_type": "code",
   "execution_count": 6,
   "metadata": {
    "collapsed": false
   },
   "outputs": [
    {
     "name": "stdout",
     "output_type": "stream",
     "text": [
      "135-La 57+, Z: 57, N: 78\n",
      "135-La 56+, Z: 57, N: 78\n",
      "135-La 55+, Z: 57, N: 78\n",
      "136-La 57+, Z: 57, N: 79\n",
      "136-La 56+, Z: 57, N: 79\n",
      "136-La 55+, Z: 57, N: 79\n",
      "136-Ce 58+, Z: 58, N: 78\n",
      "136-Ce 57+, Z: 58, N: 78\n",
      "136-Ce 56+, Z: 58, N: 78\n",
      "137-Ce 58+, Z: 58, N: 79\n",
      "137-Ce 57+, Z: 58, N: 79\n",
      "137-Ce 56+, Z: 58, N: 79\n"
     ]
    }
   ],
   "source": [
    "for pp in p.get_nuclides(57, 58, 78, 79, 3):\n",
    "    print(pp)"
   ]
  },
  {
   "cell_type": "code",
   "execution_count": 7,
   "metadata": {
    "collapsed": false
   },
   "outputs": [],
   "source": [
    "parts = np.array([])\n",
    "for pp in p.get_nuclides(0, 82, 0, 126, 1):\n",
    "    info = [pp.tbl_aa, pp.tbl_binen_kev]\n",
    "    parts = np.append(parts, info)"
   ]
  },
  {
   "cell_type": "code",
   "execution_count": 8,
   "metadata": {
    "collapsed": false
   },
   "outputs": [],
   "source": [
    "parts = np.reshape(parts, (int(np.shape(parts)[0]/2), 2))"
   ]
  },
  {
   "cell_type": "code",
   "execution_count": 9,
   "metadata": {
    "collapsed": false
   },
   "outputs": [
    {
     "data": {
      "text/plain": [
       "<matplotlib.text.Text at 0x1096b0390>"
      ]
     },
     "execution_count": 9,
     "metadata": {},
     "output_type": "execute_result"
    },
    {
     "data": {
      "image/png": "[encoded data removed]",
      "text/plain": [
       "<matplotlib.figure.Figure at 0x10968b0b8>"
      ]
     },
     "metadata": {},
     "output_type": "display_data"
    }
   ],
   "source": [
    "plt.plot(parts[:,0], parts[:,1], 'r', linewidth = 1)\n",
    "plt.grid()\n",
    "plt.title('Binding Energy vs. A')\n",
    "plt.xlabel('A')\n",
    "plt.ylabel('BiEn [keV]')"
   ]
  },
  {
   "cell_type": "code",
   "execution_count": null,
   "metadata": {
    "collapsed": true
   },
   "outputs": [],
   "source": []
  },
  {
   "cell_type": "code",
   "execution_count": 7,
   "metadata": {
    "collapsed": false
   },
   "outputs": [
    {
     "name": "stdout",
     "output_type": "stream",
     "text": [
      "Ring: ESR\n",
      "gamma_t: 1\n",
      "alpha_p: 1.0\n",
      "mode: std\n",
      "m/Q of the unknown particle: 3.9978163503294932\n",
      "\n",
      "Candidates are: \n",
      "\n",
      "\n"
     ]
    }
   ],
   "source": [
    "res = p.identify(244.6, 244.7, 2, 2, 2, 0.01)\n",
    "print(res)"
   ]
  }
 ],
 "metadata": {
  "kernelspec": {
   "display_name": "Python 3",
   "language": "python",
   "name": "python3"
  },
  "language_info": {
   "codemirror_mode": {
    "name": "ipython",
    "version": 3
   },
   "file_extension": ".py",
   "mimetype": "text/x-python",
   "name": "python",
   "nbconvert_exporter": "python",
   "pygments_lexer": "ipython3",
   "version": "3.4.5"
  }
 },
 "nbformat": 4,
 "nbformat_minor": 0
}
