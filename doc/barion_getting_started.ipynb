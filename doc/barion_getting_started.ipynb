{
 "cells": [
  {
   "cell_type": "markdown",
   "metadata": {},
   "source": [
    "# Example usage of Barion in jupyter notebook"
   ]
  },
  {
   "cell_type": "code",
   "execution_count": 1,
   "metadata": {
    "collapsed": false
   },
   "outputs": [],
   "source": [
    "from particle import *\n",
    "from ui_interface import *\n",
    "from amedata import *\n",
    "from ring import Ring\n",
    "import os"
   ]
  },
  {
   "cell_type": "code",
   "execution_count": 2,
   "metadata": {
    "collapsed": false
   },
   "outputs": [],
   "source": [
    "class Dummy_IFace(UI_Interface):\n",
    "    def __init__(self):\n",
    "        self.home_folder = os.path.expanduser('~') + '/.barion/'        \n",
    "    def show_message(self, msg):\n",
    "        print(msg)"
   ]
  },
  {
   "cell_type": "code",
   "execution_count": 3,
   "metadata": {
    "collapsed": false
   },
   "outputs": [
    {
     "name": "stdout",
     "output_type": "stream",
     "text": [
      "AME Database file is available.\n"
     ]
    }
   ],
   "source": [
    "dummy_iface = Dummy_IFace()\n",
    "ame_data = AMEData(dummy_iface)\n",
    "esr = Ring('ESR', 108.5)\n",
    "esr.gamma_t = 1.23"
   ]
  },
  {
   "cell_type": "code",
   "execution_count": 4,
   "metadata": {
    "collapsed": true
   },
   "outputs": [],
   "source": [
    "particle = Particle(6, 6, ame_data)\n",
    "particle.qq = 3\n",
    "particle.ke_u = 422\n",
    "particle.path_length_m = 108.5\n",
    "particle.i_beam_uA = 1.2\n",
    "particle.f_analysis_mhz = 245"
   ]
  },
  {
   "cell_type": "code",
   "execution_count": 5,
   "metadata": {
    "collapsed": false
   },
   "outputs": [
    {
     "data": {
      "text/plain": [
       "[['Nuclide:', '12 C 3+', ''],\n",
       " ['Z:', '6', ''],\n",
       " ['N:', '6', ''],\n",
       " ['Kinetic energy:', '422', '[MeV/u]'],\n",
       " ['Beam current:', '1.2', '[µA]'],\n",
       " ['Path length:', '108.5', '[m]'],\n",
       " ['Analysis freq.:', '245', '[MHz]'],\n",
       " ['Total charge:', '4.806529695e-19', '[C]'],\n",
       " ['Atomic mass:', '12.0', '[u]'],\n",
       " ['Ionic mass:', '11.998354347123852', '[u]'],\n",
       " ['Ionic m/Q:', '3.9994514490412842', '[u]'],\n",
       " ['Tot. kin. Energy:', '5064', '[MeV]'],\n",
       " ['gamma:', '1.4530977966809886', ''],\n",
       " ['beta:', '0.7255353246554975', ''],\n",
       " ['beta * gamma:', '1.0542737816711292', ''],\n",
       " ['Velocity:', '217510018.3442996', '[m/s]'],\n",
       " ['', '783036066.0394785', '[km/h]'],\n",
       " ['Rel. mass:', '16240.395111816', '[MeV/c^2]'],\n",
       " ['', '17.434782265603427', '[u]'],\n",
       " ['', '2.696780648027857e-23', '[kg]'],\n",
       " ['Rel. Momentum:', '11782.980339984977', '[MeV/c]'],\n",
       " ['Rel. Mom. per Nucl.:', '981.9150283320814', '[MeV/c/u]'],\n",
       " ['pc:', '3532448638689.772', '[MeV]'],\n",
       " ['Brho:', '13.101263919482344', '[T/m]'],\n",
       " ['Erho:', '2849656.1554601155', '[kV]'],\n",
       " ['f_rev:', '2.0047006299013788', '[MHz]'],\n",
       " ['No. of ions:', '1245374', ''],\n",
       " ['Prev. harmonic:', '122', ''],\n",
       " ['Expected peak:', '244.5734768479682', '[MHz]'],\n",
       " ['Next harmonic:', '123', ''],\n",
       " ['Expected peak:', '246.5781774778696', '[MHz]']]"
      ]
     },
     "execution_count": 5,
     "metadata": {},
     "output_type": "execute_result"
    }
   ],
   "source": [
    "s = particle.calculate_from_energy_list()\n",
    "s"
   ]
  },
  {
   "cell_type": "code",
   "execution_count": 6,
   "metadata": {
    "collapsed": false
   },
   "outputs": [
    {
     "name": "stdout",
     "output_type": "stream",
     "text": [
      "0.6050770097254214\n"
     ]
    }
   ],
   "source": [
    "particle.identify(244.6, 244.7)"
   ]
  },
  {
   "cell_type": "code",
   "execution_count": null,
   "metadata": {
    "collapsed": true
   },
   "outputs": [],
   "source": []
  },
  {
   "cell_type": "code",
   "execution_count": null,
   "metadata": {
    "collapsed": true
   },
   "outputs": [],
   "source": []
  }
 ],
 "metadata": {
  "kernelspec": {
   "display_name": "Python 3",
   "language": "python",
   "name": "python3"
  },
  "language_info": {
   "codemirror_mode": {
    "name": "ipython",
    "version": 3
   },
   "file_extension": ".py",
   "mimetype": "text/x-python",
   "name": "python",
   "nbconvert_exporter": "python",
   "pygments_lexer": "ipython3",
   "version": "3.4.4"
  }
 },
 "nbformat": 4,
 "nbformat_minor": 0
}
